{
 "cells": [
  {
   "cell_type": "markdown",
   "id": "f515d54e",
   "metadata": {},
   "source": [
    "# Versão 01"
   ]
  },
  {
   "cell_type": "code",
   "execution_count": 169,
   "id": "f7a778bc",
   "metadata": {},
   "outputs": [],
   "source": [
    "import pandas as pd\n",
    "import openai"
   ]
  },
  {
   "cell_type": "code",
   "execution_count": 170,
   "id": "18db2918",
   "metadata": {},
   "outputs": [],
   "source": [
    "df = pd.read_csv('moat_202404.csv')\n",
    "\n",
    "# Chave da API da OpenAI\n",
    "openai.api_key = '*****'"
   ]
  },
  {
   "cell_type": "code",
   "execution_count": 171,
   "id": "d4b3e5dc",
   "metadata": {},
   "outputs": [],
   "source": [
    "def traduzir_LN_para_pandas(cmd):\n",
    "    \n",
    "    # passa o prompt para a API da OpenAI\n",
    "    prompt = f\"\"\"\n",
    "    Eu tenho um DataFrame do pandas e preciso de ajuda para transformar a seguinte consulta em linguagem natural \n",
    "    para a sintaxe do pandas. Linguagem natural: \"{cmd}\"\n",
    "    Sintaxe do pandas: retorne exclusivamente a linha com o comando do pandas\n",
    "    \"\"\"\n",
    "\n",
    "    # chama a API da OpenAI para tradução usando o modelo gpt-3.5-turbo\n",
    "    resp = openai.ChatCompletion.create(\n",
    "        model=\"gpt-3.5-turbo\",\n",
    "        messages=[\n",
    "            {\"role\": \"system\", \"content\": \"Você é um assistente útil que converte consultas em linguagem natural para sintaxe pandas.\"},\n",
    "            {\"role\": \"user\", \"content\": prompt}\n",
    "        ],\n",
    "        max_tokens=100,\n",
    "        temperature=0.5,\n",
    "    )\n",
    "\n",
    "    query_pandas = resp.choices[0].message['content'].strip()\n",
    "    return query_pandas"
   ]
  },
  {
   "cell_type": "code",
   "execution_count": 172,
   "id": "ba7cb52c",
   "metadata": {},
   "outputs": [
    {
     "name": "stdout",
     "output_type": "stream",
     "text": [
      "Comando em linguagem natural: Mostre os produtos importados cujo valor seja maior que 100000\n",
      "Claro! Para transformar a consulta em linguagem natural para a sintaxe do pandas, você pode utilizar o seguinte comando:\n",
      "\n",
      "```python\n",
      "df[(df['Origem'] == 'Importado') & (df['Valor'] > 100000)]\n",
      "```\n",
      "\n",
      "Esse comando irá retornar exclusivamente as linhas do DataFrame onde a coluna 'Origem' seja igual a 'Importado' e a coluna 'Valor' seja maior que 100000.\n"
     ]
    }
   ],
   "source": [
    "# Exemplo de uso: comando de consulta em linguagem natural\n",
    "cmd_LN = \"Mostre os produtos importados cujo valor seja maior que 100000\"\n",
    "\n",
    "# Traduzir o comando para sintaxe pandas\n",
    "query = traduzir_LN_para_pandas(cmd_LN)\n",
    "\n",
    "print(f\"Comando em linguagem natural: {cmd_LN}\")\n",
    "print(query)"
   ]
  },
  {
   "cell_type": "code",
   "execution_count": 173,
   "id": "80928fe2",
   "metadata": {},
   "outputs": [
    {
     "name": "stdout",
     "output_type": "stream",
     "text": [
      "Erro ao executar a consulta: invalid syntax (<string>, line 1)\n"
     ]
    }
   ],
   "source": [
    "# Executar a consulta no DataFrame\n",
    "try:\n",
    "    result = eval(query)\n",
    "    print(result)\n",
    "except Exception as e:\n",
    "    print(f\"Erro ao executar a consulta: {str(e)}\")"
   ]
  },
  {
   "cell_type": "markdown",
   "id": "2aeb3bd5",
   "metadata": {},
   "source": [
    "# Versão 02"
   ]
  },
  {
   "cell_type": "code",
   "execution_count": 166,
   "id": "e5241353",
   "metadata": {},
   "outputs": [],
   "source": [
    "import pandas as pd\n",
    "import re\n",
    "\n",
    "# Carregar o arquivo CSV em um DataFrame do pandas\n",
    "file_path = 'moat_202404.csv'\n",
    "df = pd.read_csv(file_path)\n",
    "\n",
    "# Dicionário de mapeamento para consulta simples\n",
    "dic_colunas = {\n",
    "    'mes': 'anomes',\n",
    "    'codigo': 'hscode',\n",
    "    'identificacao': 'ncm',\n",
    "    'produto': 'desc_ncm',\n",
    "    'porto entrada': 'urf_entrada_carga',\n",
    "    'pais origem': 'nm_pais_origem',\n",
    "    'cnpj importador': 'importador_cnpj',\n",
    "    'importador': 'importador_nome',\n",
    "    'exportador': 'exportador_nome',\n",
    "    'valor': 'valor_fob',\n",
    "    'peso': 'peso_liquido'\n",
    "}"
   ]
  },
  {
   "cell_type": "code",
   "execution_count": 167,
   "id": "17d0f13a",
   "metadata": {},
   "outputs": [],
   "source": [
    "def LN_para_pandas(cmd):\n",
    "    \n",
    "    # este modelo vale apenas para consulta simples de seleção\n",
    "    match = re.match(r\"Mostre (.+) onde (.+)\", cmd)\n",
    "    if not match:\n",
    "        return \"Erro: comando não reconhecido.\"\n",
    "\n",
    "    select_part = match.group(1).strip()\n",
    "    where_part = match.group(2).strip()\n",
    "\n",
    "    # campos da consulta (SELECT)\n",
    "    select_fields = []\n",
    "    for field in select_part.split(\",\"):\n",
    "        field = field.strip()\n",
    "        if field in dic_colunas:\n",
    "            select_fields.append(\"'\" + dic_colunas[field] + \"'\")\n",
    "        else:\n",
    "            return f\"Erro: campo desconhecido '{field}'.\"\n",
    "\n",
    "    # condições da consulta (WHERE)\n",
    "    where_conditions = where_part\n",
    "    for natural, pandas in dic_colunas.items():\n",
    "        where_conditions = where_conditions.replace(natural, pandas)\n",
    "    where_conditions = where_conditions.replace(\" e \",\" & \")    \n",
    "    where_conditions = where_conditions.replace(\" ou \",\" | \")    \n",
    "\n",
    "    # query pandas final\n",
    "    select_fields_str = ', '.join(select_fields)\n",
    "    pandas_query = f\"df.query('{where_conditions}')[[{select_fields_str}]]\"\n",
    "    return pandas_query"
   ]
  },
  {
   "cell_type": "code",
   "execution_count": 168,
   "id": "94983978",
   "metadata": {},
   "outputs": [
    {
     "name": "stdout",
     "output_type": "stream",
     "text": [
      "Comando em linguagem natural: Mostre produto, valor onde valor > 100000 e peso < 5000\n",
      "Sintaxe pandas: df.query('valor_fob > 100000 & peso_liquido < 5000')[['desc_ncm', 'valor_fob']]\n",
      "                                                 desc_ncm  valor_fob\n",
      "116                    Outras sondas, catéteres e cânulas  124213.00\n",
      "121                Lentes de outras matérias, para óculos  353969.00\n",
      "140       Grampos e clipes, seus aplicadores e extratores  406079.00\n",
      "181     Outras partes para armações de óculos e artigo...  176331.00\n",
      "194     Circuitos impressos multicamadas, com isolante...  344183.00\n",
      "...                                                   ...        ...\n",
      "386286  Outras partes e acessórios para tratores e veí...  215205.77\n",
      "386291  Outras partes e acessórios de carrocerias para...  131046.44\n",
      "386352  Outros aparelhos emissores com receptor incorp...  292483.00\n",
      "386358  Fones de ouvido, mesmo combinados com um micro...  104171.00\n",
      "386359                           Outras obras de alumínio  191243.47\n",
      "\n",
      "[6841 rows x 2 columns]\n"
     ]
    }
   ],
   "source": [
    "# Exemplo de uso: comando de consulta em linguagem natural\n",
    "LN = \"Mostre produto, valor onde valor > 100000 e peso < 5000\"\n",
    "\n",
    "# Traduzir o comando para sintaxe pandas\n",
    "query_pandas = LN_para_pandas(LN)\n",
    "\n",
    "print(f\"Comando em linguagem natural: {LN}\")\n",
    "print(f\"Sintaxe pandas: {query_pandas}\")\n",
    "\n",
    "# Executar a consulta no DataFrame\n",
    "try:\n",
    "    result = eval(query_pandas)\n",
    "    print(result)\n",
    "except Exception as e:\n",
    "    print(f\"Erro ao executar a consulta: {str(e)}\")"
   ]
  }
 ],
 "metadata": {
  "kernelspec": {
   "display_name": "Python 3 (ipykernel)",
   "language": "python",
   "name": "python3"
  },
  "language_info": {
   "codemirror_mode": {
    "name": "ipython",
    "version": 3
   },
   "file_extension": ".py",
   "mimetype": "text/x-python",
   "name": "python",
   "nbconvert_exporter": "python",
   "pygments_lexer": "ipython3",
   "version": "3.11.4"
  }
 },
 "nbformat": 4,
 "nbformat_minor": 5
}
